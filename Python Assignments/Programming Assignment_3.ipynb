{
 "cells": [
  {
   "cell_type": "markdown",
   "id": "ad3c798a",
   "metadata": {},
   "source": [
    "## Programming Assignment_3\n",
    "----------------"
   ]
  },
  {
   "cell_type": "markdown",
   "id": "fdeb4706",
   "metadata": {},
   "source": [
    "### 1. Write a Python Program to Check if a Number is Positive, Negative or Zero?"
   ]
  },
  {
   "cell_type": "markdown",
   "id": "086bfded",
   "metadata": {},
   "source": [
    "### 2. Write a Python Program to Check if a Number is Odd or Even?\n"
   ]
  },
  {
   "cell_type": "markdown",
   "id": "575e4f94",
   "metadata": {},
   "source": [
    "### 3. Write a Python Program to Check Leap Year?\n"
   ]
  },
  {
   "cell_type": "markdown",
   "id": "aa83ce63",
   "metadata": {},
   "source": [
    "### 4. Write a Python Program to Check Prime Number?"
   ]
  },
  {
   "cell_type": "markdown",
   "id": "b44b54ff",
   "metadata": {},
   "source": [
    "### 5. Write a Python Program to Print all Prime Numbers in an Interval of 1-10000?"
   ]
  },
  {
   "cell_type": "code",
   "execution_count": null,
   "id": "17cd19ca",
   "metadata": {},
   "outputs": [],
   "source": []
  },
  {
   "cell_type": "markdown",
   "id": "97e02524",
   "metadata": {},
   "source": [
    "## 1. Write a Python Program to Check if a Number is Positive, Negative or Zero?"
   ]
  },
  {
   "cell_type": "code",
   "execution_count": 7,
   "id": "5db99c92",
   "metadata": {},
   "outputs": [
    {
     "name": "stdout",
     "output_type": "stream",
     "text": [
      " Enter a Number 0\n",
      "This is Zero\n"
     ]
    }
   ],
   "source": [
    "num= int(input(\" Enter a Number \")) # Take input for a number to check\n",
    "\n",
    "if num<0:\n",
    "    print(\"This is Negative Number\")\n",
    "elif num==0:\n",
    "    print(\"This is Zero\")\n",
    "else: print(\"This is Positive Number\")\n"
   ]
  },
  {
   "cell_type": "code",
   "execution_count": null,
   "id": "15ac63dd",
   "metadata": {},
   "outputs": [],
   "source": []
  },
  {
   "cell_type": "markdown",
   "id": "392fe78a",
   "metadata": {},
   "source": [
    "## 2. Write a Python Program to Check if a Number is Odd or Even?"
   ]
  },
  {
   "cell_type": "code",
   "execution_count": 17,
   "id": "e856838e",
   "metadata": {},
   "outputs": [
    {
     "name": "stdout",
     "output_type": "stream",
     "text": [
      " Enter a Number 3\n",
      "This is odd number\n"
     ]
    }
   ],
   "source": [
    "num= int(input(\" Enter a Number \")) # Take input for a number to check\n",
    "\n",
    "if num<0:    print(\"This is Negative number\")\n",
    "elif num==0: print(\"This is Zero\")\n",
    "elif num==1: print(\"This is Prime Number\")\n",
    "elif num%2==0: print(\"This is Even Number\")\n",
    "elif num%2!=0: print(\"This is odd number\")\n",
    "    "
   ]
  },
  {
   "cell_type": "code",
   "execution_count": null,
   "id": "95e3463c",
   "metadata": {},
   "outputs": [],
   "source": []
  },
  {
   "cell_type": "markdown",
   "id": "c18eaa81",
   "metadata": {},
   "source": [
    "## 3. Write a Python Program to Check Leap Year?"
   ]
  },
  {
   "cell_type": "raw",
   "id": "4109d3b3",
   "metadata": {},
   "source": [
    "Any year that is evenly divisible by 4 is a leap year"
   ]
  },
  {
   "cell_type": "code",
   "execution_count": 21,
   "id": "f0d9e188",
   "metadata": {},
   "outputs": [
    {
     "name": "stdout",
     "output_type": "stream",
     "text": [
      "Enter a year 2022\n",
      "This is not Leap Year\n"
     ]
    }
   ],
   "source": [
    "year = int(input(\"Enter a year \")) # Take input for a number to check\n",
    "\n",
    "if year%4==0:\n",
    "    print(\"This is Leap Year\")\n",
    "    \n",
    "else: print(\"This is not Leap Year\")\n",
    "\n",
    "\n"
   ]
  },
  {
   "cell_type": "code",
   "execution_count": null,
   "id": "78d2a09f",
   "metadata": {},
   "outputs": [],
   "source": []
  },
  {
   "cell_type": "markdown",
   "id": "37a8a913",
   "metadata": {},
   "source": [
    "## 4. Write a Python Program to Check Prime Number?"
   ]
  },
  {
   "cell_type": "code",
   "execution_count": 49,
   "id": "6079289a",
   "metadata": {},
   "outputs": [
    {
     "name": "stdout",
     "output_type": "stream",
     "text": [
      " Enter a Number 4\n",
      "Not a Prime Number\n",
      "This is Prime Number\n"
     ]
    }
   ],
   "source": [
    "num= int(input(\" Enter a Number \")) # Take input for a number to check\n",
    "\n",
    "if num<0:    print(\"This is Negative number\")\n",
    "elif num==0: print(\"This is Zero\")\n",
    "elif num==1: print(\"This is One\")\n",
    "elif num==2: print(\"This is Prime Number\")\n",
    "elif num>2:\n",
    "    for i in range(2,num):\n",
    "        if(num %i==0): print(\"Not a Prime Number\")\n",
    "        elif(num%i!=0): print(\"This is Prime Number\")\n",
    "    \n",
    "    \n",
    "    \n",
    "    "
   ]
  },
  {
   "cell_type": "code",
   "execution_count": null,
   "id": "5c8eab93",
   "metadata": {},
   "outputs": [],
   "source": []
  },
  {
   "cell_type": "code",
   "execution_count": 37,
   "id": "92d0a3c1",
   "metadata": {},
   "outputs": [
    {
     "name": "stdout",
     "output_type": "stream",
     "text": [
      "range(0, 10)\n"
     ]
    }
   ],
   "source": [
    "print(range(10))"
   ]
  },
  {
   "cell_type": "code",
   "execution_count": 42,
   "id": "d5d38b51",
   "metadata": {},
   "outputs": [],
   "source": [
    "for i in range(2,2):\n",
    "    print(i)"
   ]
  },
  {
   "cell_type": "code",
   "execution_count": null,
   "id": "a3e19d42",
   "metadata": {},
   "outputs": [],
   "source": []
  }
 ],
 "metadata": {
  "kernelspec": {
   "display_name": "Python 3",
   "language": "python",
   "name": "python3"
  },
  "language_info": {
   "codemirror_mode": {
    "name": "ipython",
    "version": 3
   },
   "file_extension": ".py",
   "mimetype": "text/x-python",
   "name": "python",
   "nbconvert_exporter": "python",
   "pygments_lexer": "ipython3",
   "version": "3.8.8"
  }
 },
 "nbformat": 4,
 "nbformat_minor": 5
}
