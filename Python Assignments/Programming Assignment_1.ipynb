{
 "cells": [
  {
   "cell_type": "markdown",
   "id": "637b47a5",
   "metadata": {},
   "source": [
    "## Programming Assignment_1\n",
    "-------------"
   ]
  },
  {
   "cell_type": "markdown",
   "id": "0c647dbe",
   "metadata": {},
   "source": [
    "### 1. Write a Python program to print \"Hello Python\"?"
   ]
  },
  {
   "cell_type": "markdown",
   "id": "fc18a6cd",
   "metadata": {},
   "source": [
    "### 2. Write a Python program to do arithmetical operations addition and division.?\n"
   ]
  },
  {
   "cell_type": "markdown",
   "id": "af6e2429",
   "metadata": {},
   "source": [
    "### 3. Write a Python program to find the area of a triangle?\n"
   ]
  },
  {
   "cell_type": "markdown",
   "id": "b8140061",
   "metadata": {},
   "source": [
    "### 4. Write a Python program to swap two variables?\n"
   ]
  },
  {
   "cell_type": "markdown",
   "id": "3f8054c1",
   "metadata": {},
   "source": [
    "### 5. Write a Python program to generate a random number?\n"
   ]
  },
  {
   "cell_type": "code",
   "execution_count": null,
   "id": "74909628",
   "metadata": {},
   "outputs": [],
   "source": []
  },
  {
   "cell_type": "markdown",
   "id": "36d8614f",
   "metadata": {},
   "source": [
    "# 1.  Write a Python program to print \"Hello Python\"?"
   ]
  },
  {
   "cell_type": "code",
   "execution_count": 2,
   "id": "a47d74d8",
   "metadata": {},
   "outputs": [
    {
     "name": "stdout",
     "output_type": "stream",
     "text": [
      "Hello Python\n"
     ]
    }
   ],
   "source": [
    "print(\"Hello Python\")"
   ]
  },
  {
   "cell_type": "markdown",
   "id": "5bcdba81",
   "metadata": {},
   "source": [
    "# 2. Write a Python program to do arithmetical operations addition and division.?"
   ]
  },
  {
   "cell_type": "code",
   "execution_count": 4,
   "id": "1e2710ce",
   "metadata": {},
   "outputs": [
    {
     "name": "stdout",
     "output_type": "stream",
     "text": [
      "Enter a number9\n",
      "Enter b number6\n",
      "Addition is =  15\n",
      "division is =  1.5\n"
     ]
    }
   ],
   "source": [
    "a= int(input(\"Enter a number\"))\n",
    "b= int(input(\"Enter b number\"))\n",
    "\n",
    "print(\"Addition is = \",a+b)\n",
    "print(\"division is = \",a/b)"
   ]
  },
  {
   "cell_type": "markdown",
   "id": "252c3691",
   "metadata": {},
   "source": [
    "# 3. Write a Python program to find the area of a triangle?"
   ]
  },
  {
   "cell_type": "code",
   "execution_count": 6,
   "id": "7252c04b",
   "metadata": {},
   "outputs": [
    {
     "name": "stdout",
     "output_type": "stream",
     "text": [
      "Enter the height of triangle 5\n",
      "Enter the base of triangle 6\n",
      "Area of Triangle is =  15.0\n"
     ]
    }
   ],
   "source": [
    "height= int(input(\"Enter the height of triangle \"))\n",
    "base= int(input(\"Enter the base of triangle \"))\n",
    "\n",
    "print(\"Area of Triangle is = \", 1/2*(height * base))"
   ]
  },
  {
   "cell_type": "markdown",
   "id": "e0db01db",
   "metadata": {},
   "source": [
    "# 4. Write a Python program to swap two variables?"
   ]
  },
  {
   "cell_type": "code",
   "execution_count": 8,
   "id": "f28ccd9b",
   "metadata": {},
   "outputs": [
    {
     "name": "stdout",
     "output_type": "stream",
     "text": [
      "Enter a number 4\n",
      "Enter b number 9\n",
      "value of a is  9\n",
      "value of b is  4\n"
     ]
    }
   ],
   "source": [
    "# here, it is not mentioned that we canot take third variable to swap 2 variables. so doing it in easiest way\n",
    "a= int(input(\"Enter a number \"))\n",
    "b= int(input(\"Enter b number \"))\n",
    "\n",
    "temp= a\n",
    "a=b\n",
    "b=temp\n",
    "\n",
    "print(\"value of a is \", a)\n",
    "print(\"value of b is \", b)"
   ]
  },
  {
   "cell_type": "markdown",
   "id": "3aa28e72",
   "metadata": {},
   "source": [
    "# 5. Write a Python program to generate a random number?"
   ]
  },
  {
   "cell_type": "code",
   "execution_count": 12,
   "id": "776f8bbb",
   "metadata": {},
   "outputs": [
    {
     "data": {
      "text/plain": [
       "7"
      ]
     },
     "execution_count": 12,
     "metadata": {},
     "output_type": "execute_result"
    }
   ],
   "source": [
    "import random\n",
    "random.randint(1,10)  # generate random number between 1 and 10"
   ]
  },
  {
   "cell_type": "code",
   "execution_count": null,
   "id": "63236b30",
   "metadata": {},
   "outputs": [],
   "source": []
  }
 ],
 "metadata": {
  "kernelspec": {
   "display_name": "Python 3",
   "language": "python",
   "name": "python3"
  },
  "language_info": {
   "codemirror_mode": {
    "name": "ipython",
    "version": 3
   },
   "file_extension": ".py",
   "mimetype": "text/x-python",
   "name": "python",
   "nbconvert_exporter": "python",
   "pygments_lexer": "ipython3",
   "version": "3.8.8"
  }
 },
 "nbformat": 4,
 "nbformat_minor": 5
}
